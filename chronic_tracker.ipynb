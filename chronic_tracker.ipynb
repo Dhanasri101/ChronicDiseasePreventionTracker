{
 "cells": [
  {
   "cell_type": "code",
   "execution_count": null,
   "id": "7d065879",
   "metadata": {
    "vscode": {
     "languageId": "plaintext"
    }
   },
   "outputs": [],
   "source": [
    "import pandas as pd\n",
    "import ipywidgets as widgets\n",
    "from IPython.display import display\n",
    "import joblib\n",
    "\n",
    "# Load the model (place chronic_model.pkl in same folder)\n",
    "model = joblib.load(\"chronic_model.pkl\")\n",
    "\n",
    "# Create input fields\n",
    "glucose = widgets.FloatText(description=\"Glucose\")\n",
    "bp = widgets.FloatText(description=\"BP\")\n",
    "bmi = widgets.FloatText(description=\"BMI\")\n",
    "age = widgets.IntText(description=\"Age\")\n",
    "button = widgets.Button(description=\"Predict\", button_style=\"success\")\n",
    "output = widgets.Output()\n",
    "\n",
    "def on_click(b):\n",
    "    with output:\n",
    "        output.clear_output()\n",
    "        df = pd.DataFrame([{\n",
    "            \"glucose\": glucose.value,\n",
    "            \"bp\": bp.value,\n",
    "            \"bmi\": bmi.value,\n",
    "            \"age\": age.value\n",
    "        }])\n",
    "        prediction = model.predict(df)[0]\n",
    "        print(f\"🧠 Risk Prediction: {prediction}\")\n",
    "\n",
    "button.on_click(on_click)\n",
    "\n",
    "display(glucose, bp, bmi, age, button, output)\n"
   ]
  }
 ],
 "metadata": {
  "language_info": {
   "name": "python"
  }
 },
 "nbformat": 4,
 "nbformat_minor": 5
}
